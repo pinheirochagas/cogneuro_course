{
 "cells": [
  {
   "cell_type": "code",
   "execution_count": 146,
   "metadata": {},
   "outputs": [],
   "source": [
    "## Correlation Analysis\n",
    "import numpy as np\n",
    "import matplotlib.pyplot as plt"
   ]
  },
  {
   "cell_type": "code",
   "execution_count": 147,
   "metadata": {},
   "outputs": [],
   "source": [
    "# Initialize variables\n",
    "x = np.array(range(1000))\n",
    "y = x"
   ]
  },
  {
   "cell_type": "code",
   "execution_count": 148,
   "metadata": {},
   "outputs": [
    {
     "data": {
      "image/png": "[encoded data removed]",
      "text/plain": [
       "<Figure size 432x288 with 2 Axes>"
      ]
     },
     "metadata": {},
     "output_type": "display_data"
    }
   ],
   "source": [
    "scales = np.linspace (.1, 7, num=2)\n",
    "\n",
    "fig = plt.figure()\n",
    "\n",
    "for ii in range(0,scales.size):\n",
    "    plt.subplot(1,2,ii+1)\n",
    "    for i in range(0,x.size):\n",
    "        x[i] = x[i]+np.float(np.random.rand(1))*(i*scales[ii])\n",
    "        y[i] = y[i]+np.float(np.random.rand(1))*(i*scales[ii])\n",
    "    x = x*2;\n",
    "    plt.plot(x,y,'o')\n",
    "    rho = np.corrcoef(x,y);\n",
    "    rho = rho[1][0]\n",
    "    fit = np.polyfit(x,y,1)\n",
    "    y_fit = np.polyval(fit,x)\n",
    "    plt.plot(x,y_fit,'r-')\n",
    "    plt.title ('rho = ' + str(round(rho,2)) + '   ' + 'b = ' + str(round(fit[0],2)))"
   ]
  },
  {
   "cell_type": "markdown",
   "metadata": {},
   "source": [
    "##### The Person correlation coefficient is given by:\n",
    "$${\\displaystyle r_{xy}={\\frac {\\sum _{i=1}^{n}(x_{i}-{\\bar {x}})(y_{i}-{\\bar {y}})}\n",
    "{{\\sqrt {\\sum _{i=1}^{n}(x_{i}-{\\bar {x}})^{2}}}{\\sqrt {\\sum _{i=1}^{n}(y_{i}-{\\bar {y}})^{2}}}}}}$$\n",
    "\n",
    "Where: $ {\\sum _{i=1}^{n}(x_{i}-{\\bar {x}})(y_{i}-{\\bar {y}})} $ is the uncorrected sample covariance of of$\\ xy$.\n",
    "\n",
    "and $ \\sqrt {\\sum _{i=1}^{n}(x_{i}-{\\bar {x}})^{2}} $ is the uncorrected sample standard deviation of$\\ {x}$.\n",
    "\n",
    "The normalizers $\\ {n} - 1$ of both the covariances and standard deviation cancel each others out. "
   ]
  },
  {
   "cell_type": "code",
   "execution_count": 138,
   "metadata": {},
   "outputs": [
    {
     "name": "stdout",
     "output_type": "stream",
     "text": [
      "rho = 0.65\n"
     ]
    }
   ],
   "source": [
    "## Calculate correlation and regression coefficients step-by-step\n",
    "# Pearson correlation\n",
    "\n",
    "# nominator - covariance of x and y without the normalizer (n -1)\n",
    "corr_n =         sum((x - np.mean(x)) * (y - np.mean(y))) \n",
    "# denominator - product of the variance of x and y without the normalizer (n -1)\n",
    "corr_d =   np.sqrt(sum((x - np.mean(x))**2) * sum((y - np.mean(y))**2)) # denominator\n",
    "\n",
    "rho = corr_n/corr_d;\n",
    "\n",
    "print('rho = ' + str(round(rho,2)))"
   ]
  },
  {
   "cell_type": "markdown",
   "metadata": {},
   "source": [
    "If one $\\ x$ or$\\ y$ is a constant, both the nominator and denominator are equal to 0, therefore rho is **undefined**."
   ]
  },
  {
   "cell_type": "markdown",
   "metadata": {},
   "source": [
    "##### The  general regression formula:\n",
    "\n",
    "$$ \\ y = \\beta x + \\alpha $$ \n",
    "\n",
    "where $\\beta $ is the slope or regression coefficient and  $\\alpha$ is the intercept.  \n",
    "\n",
    "##### The slope can be calculated from the rho: \n",
    "\n",
    "$$ \\beta = \\ r_{xy}\\frac{\\ S_x}{S_y} $$\n",
    "\n",
    "where$\\ S $ is the uncorrected sample standard deviation.  \n",
    "\n",
    "##### And the intercept is defined by:\n",
    "\n",
    "$$ \\alpha = \\bar {y} - \\beta\\bar {x}$$ \n"
   ]
  },
  {
   "cell_type": "code",
   "execution_count": 123,
   "metadata": {},
   "outputs": [
    {
     "name": "stdout",
     "output_type": "stream",
     "text": [
      "b = 0.28\n",
      "a = 748.62\n"
     ]
    }
   ],
   "source": [
    "# Linear regression\n",
    "sd_x = np.sqrt(sum((x - np.mean(x))**2)/x.size-1)# standard deviation of y \n",
    "sd_y = np.sqrt(sum((y - np.mean(y))**2)/y.size-1)# standard deviation of y\n",
    "\n",
    "b = rho*(sd_y/sd_x) # slope\n",
    "a = np.mean(y) - b*(np.mean(x)) #intercept\n",
    "\n",
    "print('b = ' + str(round(b,2)))\n",
    "print('a = ' + str(round(a,2)))"
   ]
  },
  {
   "cell_type": "code",
   "execution_count": null,
   "metadata": {},
   "outputs": [],
   "source": []
  },
  {
   "cell_type": "code",
   "execution_count": null,
   "metadata": {},
   "outputs": [],
   "source": []
  }
 ],
 "metadata": {
  "kernelspec": {
   "display_name": "Python 3",
   "language": "python",
   "name": "python3"
  },
  "language_info": {
   "codemirror_mode": {
    "name": "ipython",
    "version": 3
   },
   "file_extension": ".py",
   "mimetype": "text/x-python",
   "name": "python",
   "nbconvert_exporter": "python",
   "pygments_lexer": "ipython3",
   "version": "3.6.6"
  }
 },
 "nbformat": 4,
 "nbformat_minor": 2
}
