{
 "cells": [
  {
   "cell_type": "code",
   "execution_count": 106,
   "metadata": {},
   "outputs": [],
   "source": [
    "## Correlation Analysis\n",
    "import numpy as np\n",
    "import matplotlib.pyplot as plt"
   ]
  },
  {
   "cell_type": "code",
   "execution_count": 107,
   "metadata": {},
   "outputs": [],
   "source": [
    "# Initialize variables\n",
    "x = np.array(range(1000))\n",
    "y = x"
   ]
  },
  {
   "cell_type": "code",
   "execution_count": 108,
   "metadata": {},
   "outputs": [
    {
     "data": {
      "image/png": "[encoded data removed]",
      "text/plain": [
       "<Figure size 432x288 with 2 Axes>"
      ]
     },
     "metadata": {},
     "output_type": "display_data"
    }
   ],
   "source": [
    "scales = np.linspace (.1, 7, num=2)\n",
    "\n",
    "fig = plt.figure()\n",
    "\n",
    "for ii in range(0,2):\n",
    "    plt.subplot(1,2,ii+1)\n",
    "    for i in range(0,x.size):\n",
    "        x[i] = x[i]+np.float(np.random.rand(1))*(i*scales[ii])\n",
    "        y[i] = y[i]+np.float(np.random.rand(1))*(i*scales[ii])\n",
    "    x = x*2;\n",
    "    plt.plot(x,y,'o')\n",
    "    rho = np.corrcoef(x,y);\n",
    "    rho = rho[1][0]\n",
    "    fit = np.polyfit(x,y,1)\n",
    "    y_fit = np.polyval(fit,x)\n",
    "    plt.plot(x,y_fit,'r-')\n",
    "    plt.title ('rho = ' + str(round(rho,2)) + '   ' + 'b = ' + str(round(fit[0],2)))\n",
    "\n",
    "    \n"
   ]
  },
  {
   "cell_type": "code",
   "execution_count": 113,
   "metadata": {},
   "outputs": [
    {
     "name": "stdout",
     "output_type": "stream",
     "text": [
      "0.27809312323128577\n"
     ]
    }
   ],
   "source": [
    "\n",
    "\n",
    "\n",
    "\n",
    "\n",
    "\n",
    "print(b)"
   ]
  },
  {
   "cell_type": "markdown",
   "metadata": {},
   "source": [
    "##### The Person correlation coefficient is given by:\n",
    "$${\\displaystyle r_{xy}={\\frac {\\sum _{i=1}^{n}(x_{i}-{\\bar {x}})(y_{i}-{\\bar {y}})}\n",
    "{{\\sqrt {\\sum _{i=1}^{n}(x_{i}-{\\bar {x}})^{2}}}{\\sqrt {\\sum _{i=1}^{n}(y_{i}-{\\bar {y}})^{2}}}}}}$$\n",
    "\n",
    "where $ {\\sum _{i=1}^{n}(x_{i}-{\\bar {x}})(y_{i}-{\\bar {y}})} $ is the covariance of of$\\ {x}$ and $\\ {y}$ without the normalizer ($\\ {n} - 1$ ). \n",
    "\n",
    " and $ \\sqrt {\\sum _{i=1}^{n}(x_{i}-{\\bar {x}})^{2}} $ is the standard deviation of$\\ {x}$ without the normalizer ($\\ {n} - 1$ ). \n",
    "\n",
    "The normalizers ($\\ {n} - 1$ ) of the covariance and standard deviation cancel each others out. "
   ]
  },
  {
   "cell_type": "code",
   "execution_count": 120,
   "metadata": {},
   "outputs": [
    {
     "name": "stdout",
     "output_type": "stream",
     "text": [
      "rho = 0.63\n"
     ]
    }
   ],
   "source": [
    "## Calculate correlation and regression coefficients step-by-step\n",
    "# Pearson correlation\n",
    "\n",
    "# nominator - covariance of x and y without the normalizer (n -1)\n",
    "corr_n =         sum((x - np.mean(x)) * (y - np.mean(y))) \n",
    "# denominator - product of the variance of x and y without the normalizer (n -1)\n",
    "corr_d =   np.sqrt(sum((x - np.mean(x))**2) * sum((y - np.mean(y))**2)) # denominator\n",
    "\n",
    "rho = corr_n/corr_d;\n",
    "\n",
    "print('rho = ' + str(round(rho,2)))"
   ]
  },
  {
   "cell_type": "markdown",
   "metadata": {},
   "source": [
    "If one variable is a constant, both the nominator and denominator are equal to 0,  \n",
    "therefore rho is actually gonna be undefined."
   ]
  },
  {
   "cell_type": "markdown",
   "metadata": {},
   "source": [
    "##### The regression coefficient can be derived from the rho by: \n",
    "\n",
    "$${\\displaystyle r_{xy}={\\frac {\\sum _{i=1}^{n}(x_{i}-{\\bar {x}})(y_{i}-{\\bar {y}})}$$\n"
   ]
  },
  {
   "cell_type": "code",
   "execution_count": 116,
   "metadata": {},
   "outputs": [
    {
     "data": {
      "text/plain": [
       "4.0"
      ]
     },
     "execution_count": 116,
     "metadata": {},
     "output_type": "execute_result"
    }
   ],
   "source": [
    "# Linear regression\n",
    "# variance of x\n",
    "sd_x = np.sqrt(sum((x - np.mean(x))**2)/x.size-1)\n",
    "sd_y = np.sqrt(sum((y - np.mean(y))**2)/y.size-1)# standard deviation of y\n",
    "\n",
    "b = rho*(sd_y/sd_x) # slope\n",
    "a = np.mean(y) - b*(np.mean(x)) #intercept"
   ]
  },
  {
   "cell_type": "code",
   "execution_count": null,
   "metadata": {},
   "outputs": [],
   "source": []
  }
 ],
 "metadata": {
  "kernelspec": {
   "display_name": "Python 3",
   "language": "python",
   "name": "python3"
  },
  "language_info": {
   "codemirror_mode": {
    "name": "ipython",
    "version": 3
   },
   "file_extension": ".py",
   "mimetype": "text/x-python",
   "name": "python",
   "nbconvert_exporter": "python",
   "pygments_lexer": "ipython3",
   "version": "3.6.6"
  }
 },
 "nbformat": 4,
 "nbformat_minor": 2
}
