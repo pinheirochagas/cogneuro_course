{
 "cells": [
  {
   "cell_type": "code",
   "execution_count": 2,
   "metadata": {},
   "outputs": [],
   "source": [
    "## Correlation Analysis\n",
    "import numpy as np\n"
   ]
  },
  {
   "cell_type": "code",
   "execution_count": null,
   "metadata": {},
   "outputs": [],
   "source": [
    "\n",
    "%% Genetate variables and plot\n",
    "x = transpose(1:1000);\n",
    "y = x;\n",
    "\n",
    "scales = linspace(0.1, 7, 2);\n",
    "for ii = 1:2\n",
    "    subplot(1,2,ii)\n",
    "    for i = 1:length(x)\n",
    "        x(i) = x(i)+rand(1)*(i*scales(ii));\n",
    "        y(i) = y(i)+rand(1)*(i*scales(ii));\n",
    "    end\n",
    "    x = x*2;\n",
    "\n",
    "    plot(x,y,'o')\n",
    "    rho = corr(x,y);\n",
    "    \n",
    "    axis square\n",
    "    hold on\n",
    "    [p,S] = polyfit(x,y,1);\n",
    "    [y_fit,delta] = polyval(p,x,S);\n",
    "    plot(x,y_fit,'r-', 'LineWidth', 2)\n",
    "    \n",
    "    title(['rho = ' num2str(rho) ' ' 'b = ' num2str(p(1))])\n",
    "    set(gca, 'FontSize', 16)\n",
    "end\n",
    "\n",
    "\n",
    "%% Pearson correlation\n",
    "corr_n =         sum((x - mean(x)) .* (y - mean(y))); % nominator\n",
    "corr_d =   sqrt(sum((x - mean(x)).^2) * sum((y - mean(y)).^2)); % denominator\n",
    "rho = corr_n/corr_d;\n",
    "\n",
    "% If one variable is actually a constant, \n",
    "% both the nominator and denominator are equal to 0\n",
    "% so rho is gonna be undefined\n",
    "\n",
    "\n",
    "%% Linear regression\n",
    "sd_x = sqrt(sum((x - mean(x)).^2)/length(x)-1); % standard deviation of x\n",
    "sd_y = sqrt(sum((y - mean(y)).^2)/length(y)-1); % standard deviation of y\n",
    "\n",
    "b = rho*(sd_y/sd_x); % slope\n",
    "a = mean(y) - b*(mean(x)); % intercept\n",
    "\n",
    "\n",
    "\n",
    "\n",
    "\n",
    "\n"
   ]
  },
  {
   "cell_type": "code",
   "execution_count": null,
   "metadata": {},
   "outputs": [],
   "source": []
  }
 ],
 "metadata": {
  "kernelspec": {
   "display_name": "Python 3",
   "language": "python",
   "name": "python3"
  },
  "language_info": {
   "codemirror_mode": {
    "name": "ipython",
    "version": 3
   },
   "file_extension": ".py",
   "mimetype": "text/x-python",
   "name": "python",
   "nbconvert_exporter": "python",
   "pygments_lexer": "ipython3",
   "version": "3.6.6"
  }
 },
 "nbformat": 4,
 "nbformat_minor": 2
}
